{
 "cells": [
  {
   "cell_type": "code",
   "execution_count": 1,
   "metadata": {},
   "outputs": [],
   "source": [
    "import numpy as np\n",
    "import matplotlib.pyplot as plt\n",
    "\n",
    "from tqdm import tqdm\n",
    "\n",
    "from scipy.integrate import quad\n",
    "import scipy.stats as stats"
   ]
  },
  {
   "cell_type": "markdown",
   "metadata": {},
   "source": [
    "# Parte I"
   ]
  },
  {
   "cell_type": "code",
   "execution_count": 3,
   "metadata": {},
   "outputs": [],
   "source": [
    "# Definición de variables\n",
    "\n",
    "k = 8.617333262e-5 # eV / K\n",
    "h = 4.135667e-15 # eV*s\n",
    "# h_bar = h/(2*np.pi) # eV*s\n",
    "m =  0.5*510999 #eV  #0.5*9.1e-31 # kg\n",
    "q = 1.602176e-19\n",
    "\n",
    "Ec = -4.7\n",
    "Ef = -5\n",
    "\n",
    "L = 40e-9\n",
    "W = 3*L\n",
    "\n",
    "C_g = 0.1e-15\n",
    "\n"
   ]
  },
  {
   "cell_type": "code",
   "execution_count": null,
   "metadata": {},
   "outputs": [],
   "source": [
    "def fermi_dirac(E,U,T):\n",
    "    return 1/(1+np.exp((E-U)/(k*T)))\n",
    "\n",
    "def fermi_integral(E, fermi, T):\n",
    "    if E < fermi:\n",
    "        return 1 / (1 + np.exp((E - fermi) / (k * T)))\n",
    "    else:\n",
    "        return np.exp(-(E - fermi) / (k * T)) / (1 + np.exp(-(E - fermi) / (k * T)))\n",
    "\n",
    "def get_N(E, U,Vds,T):\n",
    "    return L/h*np.sqrt((2*m/(E-U-Ec)))*(fermi_integral(E,Ef, T)+fermi_integral(E,Ef-q*Vds, T))\n",
    "\n",
    "def get_U(N,N_0, V_gs):\n",
    "    return q*q/C_g*(N-N_0)-q*V_gs\n",
    "\n",
    "def get_I(E,U,Vds,T):\n",
    "    return np.sqrt(2*m*(E-Ec-U))*(fermi_integral(E,Ef,T)-fermi_integral(E,Ef-q*Vds, T))\n",
    "\n",
    "def solve_I(Vds,T,V_gs, tol = 1e-10,lr = 1e-3):\n",
    "    \n",
    "    N_0 = quad(get_N, Ec, np.inf, args=(0,0,T))[0] # Pendiente\n",
    "    print(N_0)\n",
    "    U_ = 1\n",
    "    \n",
    "    for _ in tqdm(range(int(1e5)), disable=False):\n",
    "        N = quad(get_N, Ec+U_, np.inf, args=(U_,Vds,T))[0]\n",
    "        U = get_U(N,N_0,V_gs)\n",
    "\n",
    "        if abs(U-U_) < tol:\n",
    "            print('a')\n",
    "            break\n",
    "\n",
    "        else:\n",
    "            U_ = U_ +lr*(U-U_)\n",
    "    print(U) \n",
    "    \n",
    "    I = q*W/(h*h/4)*quad(get_I,(Ec+U), np.inf, args = (U, Vds, T))[0]\n",
    "\n",
    "    return U, I\n",
    "    \n",
    "ns = solve_I(0.1, \n",
    "            1, \n",
    "            0.3, )\n",
    "ns\n",
    "# plt.plot([solve_I(vds, 1, 0.3) for vds in np.linspace(0.0, 0.5, 100)])\n",
    "\n"
   ]
  },
  {
   "cell_type": "code",
   "execution_count": null,
   "metadata": {},
   "outputs": [],
   "source": [
    "# plt.plot(ns)\n",
    "ns\n"
   ]
  },
  {
   "cell_type": "code",
   "execution_count": null,
   "metadata": {},
   "outputs": [],
   "source": [
    "def int_N0(E, T):\n",
    "    return 1/(np.sqrt(E*k*T-Ec)*(np.exp(E-Ec/(k*T))+1))\n",
    "T = 1\n",
    "integral = quad(int_N0, Ec/(k*T),np.inf, args=(T) )[0]\n",
    "cte = L*k*T*m*np.sqrt(2)/h\n",
    "cte*integral"
   ]
  },
  {
   "cell_type": "code",
   "execution_count": 30,
   "metadata": {},
   "outputs": [
    {
     "name": "stdout",
     "output_type": "stream",
     "text": [
      "0.0\n"
     ]
    },
    {
     "name": "stderr",
     "output_type": "stream",
     "text": [
      "  0%|          | 0/10000 [00:00<?, ?it/s]C:\\Users\\benja\\AppData\\Local\\Temp/ipykernel_31404/427809807.py:5: RuntimeWarning: overflow encountered in exp\n",
      "  return 1/np.sqrt(E-(U+Ec)/(k*T))*(1/(1+np.exp(E-Ef/(k*T)))+1/(1+np.exp(E-(Ef-Vds)/(k*T))))\n",
      "C:\\Users\\benja\\AppData\\Local\\Temp/ipykernel_31404/427809807.py:20: IntegrationWarning: The maximum number of subdivisions (50) has been achieved.\n",
      "  If increasing the limit yields no improvement it is advised to analyze \n",
      "  the integrand in order to determine the difficulties.  If the position of a \n",
      "  local difficulty can be determined (singularity, discontinuity) one will \n",
      "  probably gain from splitting up the interval and calling the integrator \n",
      "  on the subranges.  Perhaps a special-purpose integrator should be used.\n",
      "  integral = quad(int_N,\n",
      "  8%|▊         | 848/10000 [00:09<01:45, 87.04it/s] "
     ]
    },
    {
     "name": "stdout",
     "output_type": "stream",
     "text": [
      "a\n"
     ]
    },
    {
     "name": "stderr",
     "output_type": "stream",
     "text": [
      "\n",
      "C:\\Users\\benja\\AppData\\Local\\Temp/ipykernel_31404/427809807.py:11: RuntimeWarning: overflow encountered in exp\n",
      "  return np.sqrt(E-(U+Ec)/(k*T))*(1/(1+np.exp(E-Ef/(k*T)))-1/(1+np.exp(E-(Ef-Vds)/(k*T))))\n"
     ]
    }
   ],
   "source": [
    "# Funciones de integrales\n",
    "def int_N(E,U,T,Vds):\n",
    "    # print(E, (U+Ec)/(k*T))\n",
    "    if E < Ef/(k*T):\n",
    "        return 1/np.sqrt(E-(U+Ec)/(k*T))*(1/(1+np.exp(E-Ef/(k*T)))+1/(1+np.exp(E-(Ef-Vds)/(k*T))))\n",
    "    else:\n",
    "        return 1/np.sqrt(E-(U+Ec)/(k*T))*(np.exp(Ef/(k*T)-E)/(1+np.exp(Ef/(k*T)-E)) + np.exp((Ef-Vds)/(k*T)-E)/(1+np.exp((Ef-Vds)/(k*T)-E)))\n",
    "\n",
    "def int_I(E,U,T, Vds):\n",
    "    if E < Ef/(k*T):\n",
    "        return np.sqrt(E-(U+Ec)/(k*T))*(1/(1+np.exp(E-Ef/(k*T)))-1/(1+np.exp(E-(Ef-Vds)/(k*T))))\n",
    "    else:\n",
    "        return np.sqrt(E-(U+Ec)/(k*T))*(np.exp(Ef/(k*T)-E)/(1+np.exp(Ef/(k*T)-E)) - np.exp((Ef-Vds)/(k*T)-E)/(1+np.exp((Ef-Vds)/(k*T)-E)))\n",
    "\n",
    "\n",
    "\n",
    "# Funciones de cálculo\n",
    "def get_N(U,T, Vds):\n",
    "    cte = L*np.sqrt(k*T)*np.sqrt(2*m)/h\n",
    "    integral = quad(int_N,\n",
    "                    (U+Ec)/(k*T),\n",
    "                    np.inf, \n",
    "                    args=(U, T, Vds))\n",
    "    # print(cte, integral) \n",
    "    return cte*integral[0]\n",
    "\n",
    "def get_U(N,N_0, V_gs):\n",
    "    return q*q/C_g*(N-N_0)-V_gs\n",
    "\n",
    "def get_I(U, T, Vds):\n",
    "    cte = q*W*4*np.sqrt(2*m*k*T)*k*T/(h*h)\n",
    "    integral = quad(int_I,\n",
    "                    (U+Ec)/(k*T),\n",
    "                    np.inf, \n",
    "                    args=(U, T, Vds))\n",
    "    return cte*integral[0]\n",
    "\n",
    "# Loop de autoconsistencia\n",
    "def solve_I(Vds,T,V_gs, tol = 1e-4,lr = 1e-3):\n",
    "    \n",
    "    N_0 = get_N(0,T, 0)\n",
    "    print(N_0)\n",
    "    U_ = -1\n",
    "    \n",
    "    for _ in tqdm(range(int(1e4)), disable=False):\n",
    "        N = get_N(U_,T, Vds)\n",
    "        U = get_U(N,N_0,V_gs)\n",
    "\n",
    "        if abs(U-U_) < tol:\n",
    "            print('a')\n",
    "            break\n",
    "\n",
    "        else:\n",
    "            U_ = U_ +lr*(U-U_)\n",
    "    \n",
    "    I = get_I(U,T,Vds)\n",
    "    return U, I\n",
    "\n",
    "U,I = solve_I(0.3, \n",
    "        1, \n",
    "        0.5, \n",
    "        lr = 0.01)\n",
    "\n",
    "    "
   ]
  },
  {
   "cell_type": "code",
   "execution_count": 29,
   "metadata": {},
   "outputs": [
    {
     "data": {
      "text/plain": [
       "19.15709020773909"
      ]
     },
     "execution_count": 29,
     "metadata": {},
     "output_type": "execute_result"
    }
   ],
   "source": [
    "I*1e-4"
   ]
  },
  {
   "cell_type": "code",
   "execution_count": 15,
   "metadata": {},
   "outputs": [
    {
     "data": {
      "text/plain": [
       "124484.75408355833"
      ]
     },
     "execution_count": 15,
     "metadata": {},
     "output_type": "execute_result"
    }
   ],
   "source": [
    "I"
   ]
  }
 ],
 "metadata": {
  "kernelspec": {
   "display_name": "Python 3",
   "language": "python",
   "name": "python3"
  },
  "language_info": {
   "codemirror_mode": {
    "name": "ipython",
    "version": 3
   },
   "file_extension": ".py",
   "mimetype": "text/x-python",
   "name": "python",
   "nbconvert_exporter": "python",
   "pygments_lexer": "ipython3",
   "version": "3.10.1"
  }
 },
 "nbformat": 4,
 "nbformat_minor": 2
}
