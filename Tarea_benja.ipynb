{
 "cells": [
  {
   "cell_type": "code",
   "execution_count": 1,
   "metadata": {},
   "outputs": [],
   "source": [
    "import numpy as np\n",
    "import matplotlib.pyplot as plt\n",
    "\n",
    "from tqdm import tqdm\n",
    "\n",
    "from scipy.integrate import quad\n",
    "import scipy.stats as stats"
   ]
  },
  {
   "cell_type": "code",
   "execution_count": 11,
   "metadata": {},
   "outputs": [
    {
     "data": {
      "text/plain": [
       "[<matplotlib.lines.Line2D at 0x1c4a4958490>]"
      ]
     },
     "execution_count": 11,
     "metadata": {},
     "output_type": "execute_result"
    },
    {
     "data": {
      "image/png": "[encoded data removed]",
      "text/plain": [
       "<Figure size 432x288 with 1 Axes>"
      ]
     },
     "metadata": {
      "needs_background": "light"
     },
     "output_type": "display_data"
    }
   ],
   "source": [
    "x = np.linspace(-10,10,100)\n",
    "plt.plot(x,stats.logistic.sf(x, ))"
   ]
  },
  {
   "cell_type": "markdown",
   "metadata": {},
   "source": [
    "# Parte I"
   ]
  },
  {
   "cell_type": "code",
   "execution_count": 13,
   "metadata": {},
   "outputs": [],
   "source": [
    "# Definición de variables\n",
    "\n",
    "k = 8.617333262e-5 # eV / K\n",
    "h = 4.135667e-15 # eV*s\n",
    "h_bar = h/(2*np.pi) # eV*s\n",
    "m = 0.5*9.1e-31\n",
    "q = 1.602176e-19\n",
    "\n",
    "Ec = -4.7\n",
    "Ef = -5\n",
    "\n",
    "L = 40e-9\n",
    "W = 3*L\n",
    "\n",
    "C_g = 0.1e-15\n",
    "\n"
   ]
  },
  {
   "cell_type": "code",
   "execution_count": 14,
   "metadata": {},
   "outputs": [
    {
     "name": "stdout",
     "output_type": "stream",
     "text": [
      "0.0\n",
      "a\n",
      "-4.806528e-20\n"
     ]
    },
    {
     "data": {
      "text/plain": [
       "(-4.806528e-20, 0.0)"
      ]
     },
     "execution_count": 14,
     "metadata": {},
     "output_type": "execute_result"
    }
   ],
   "source": [
    "def fermi_dirac(E,U,T):\n",
    "    return 1/(1+np.exp((E-U)/(k*T)))\n",
    "\n",
    "def fermi_integral(E, fermi, T):\n",
    "    if E < fermi:\n",
    "        return 1 / (1 + np.exp((E - fermi) / (k * T)))\n",
    "    else:\n",
    "        return np.exp(-(E - fermi) / (k * T)) / (1 + np.exp(-(E - fermi) / (k * T)))\n",
    "\n",
    "def get_N(E, U,Vds,T):\n",
    "    return L/h*(2*m/(E-U-Ec))*(fermi_integral(E,Ef, T)+fermi_integral(E,Ef-q*Vds, T))\n",
    "\n",
    "def get_U(N,N_0, V_gs):\n",
    "    return q*q/C_g*(N-N_0)-q*V_gs\n",
    "\n",
    "def get_I(E,U,Vds,T):\n",
    "    return np.sqrt(2*m*(E-Ec-U))*(fermi_integral(E,Ef,T)-fermi_integral(E,Ef-q*Vds, T))\n",
    "\n",
    "def solve_I(Vds,T,V_gs, tol = 1e-25,lr = 1e-3):\n",
    "    \n",
    "    N_0 = quad(get_N, Ec, np.inf, args=(0,0,T))[0] # Pendiente\n",
    "    print(N_0)\n",
    "    U_ = 0\n",
    "    \n",
    "    for _ in tqdm(range(int(1e5)), disable=True):\n",
    "        N = quad(get_N, Ec, np.inf, args=(U_,Vds,T))[0]\n",
    "        U = get_U(N,N_0,V_gs)\n",
    "\n",
    "        if abs(U-U_) < tol:\n",
    "            print('a')\n",
    "            break\n",
    "\n",
    "        else:\n",
    "            U_ = U_ +lr*(U-U_)\n",
    "    print(U) \n",
    "    \n",
    "    I = q*W/(h*h/4)*quad(get_I,(Ec+U), np.inf, args = (U, Vds, T))[0]\n",
    "\n",
    "    return U, I\n",
    "    \n",
    "ns = solve_I(0.5, \n",
    "            1, \n",
    "            0.3, )\n",
    "ns\n",
    "# plt.plot([solve_I(vds, 1, 0.3) for vds in np.linspace(0.0, 0.5, 100)])\n",
    "\n"
   ]
  },
  {
   "cell_type": "code",
   "execution_count": 22,
   "metadata": {},
   "outputs": [
    {
     "data": {
      "text/plain": [
       "0.0"
      ]
     },
     "execution_count": 22,
     "metadata": {},
     "output_type": "execute_result"
    }
   ],
   "source": [
    "# plt.plot(ns)\n",
    "ns\n"
   ]
  }
 ],
 "metadata": {
  "kernelspec": {
   "display_name": "Python 3",
   "language": "python",
   "name": "python3"
  },
  "language_info": {
   "codemirror_mode": {
    "name": "ipython",
    "version": 3
   },
   "file_extension": ".py",
   "mimetype": "text/x-python",
   "name": "python",
   "nbconvert_exporter": "python",
   "pygments_lexer": "ipython3",
   "version": "3.10.1"
  }
 },
 "nbformat": 4,
 "nbformat_minor": 2
}
