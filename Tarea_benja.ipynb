{
 "cells": [
  {
   "cell_type": "code",
   "execution_count": 21,
   "metadata": {},
   "outputs": [],
   "source": [
    "import numpy as np\n",
    "import matplotlib.pyplot as plt\n",
    "\n",
    "from tqdm import tqdm\n",
    "\n",
    "from scipy.integrate import quad\n",
    "import scipy.stats as stats"
   ]
  },
  {
   "cell_type": "code",
   "execution_count": 106,
   "metadata": {},
   "outputs": [],
   "source": [
    "# Definición de variables eV\n",
    "\n",
    "k = 8.617333262e-5 # eV / K\n",
    "h = 4.135667e-15 # eV*s\n",
    "h_bar = h/(2*np.pi) # eV*s\n",
    "# m =  0.5*510999 #eV/c^2  #0.5*9.1e-31 # kg\n",
    "m =  0.5*8.19e-12\n",
    "# m = 0.5*9.1e-31\n",
    "q = 1.602176e-19\n",
    "\n",
    "Ec = -4.7  #eV\n",
    "Ef = -5 #eV\n",
    "\n",
    "L = 40e-9 # M\n",
    "W = 3*L # M\n",
    "\n",
    "C_g = 0.1e-15 # Faradio = Q/V = Q^2/eV\n",
    "C_q = q*q*m*W*L/(2*np.pi*h_bar*h_bar) # Q^2/eV\n",
    "\n",
    "C_es = C_g+C_q\n",
    "\n",
    "eta = C_g/C_es\n",
    "V_t = Ec"
   ]
  },
  {
   "cell_type": "markdown",
   "metadata": {},
   "source": [
    "# Parte I"
   ]
  },
  {
   "cell_type": "code",
   "execution_count": 107,
   "metadata": {},
   "outputs": [],
   "source": [
    "# Funciones de integrales\n",
    "def int_N(E,U,T,Vds):\n",
    "    # print(E, (U+Ec)/(k*T))\n",
    "    if E < Ef/(k*T):\n",
    "        return 1/np.sqrt(E-(U+Ec)/(k*T))*(1/(1+np.exp(E-Ef/(k*T)))+1/(1+np.exp(E-(Ef-Vds)/(k*T))))\n",
    "    else:\n",
    "        return 1/np.sqrt(E-(U+Ec)/(k*T))*(np.exp(Ef/(k*T)-E)/(1+np.exp(Ef/(k*T)-E)) + np.exp((Ef-Vds)/(k*T)-E)/(1+np.exp((Ef-Vds)/(k*T)-E)))\n",
    "\n",
    "def int_I(E,U,T, Vds):\n",
    "    if E < Ef/(k*T):\n",
    "        return np.sqrt(E-(U+Ec)/(k*T))*(1/(1+np.exp(E-Ef/(k*T)))-1/(1+np.exp(E-(Ef-Vds)/(k*T))))\n",
    "    else:\n",
    "        return np.sqrt(E-(U+Ec)/(k*T))*(np.exp(Ef/(k*T)-E)/(1+np.exp(Ef/(k*T)-E)) - np.exp((Ef-Vds)/(k*T)-E)/(1+np.exp((Ef-Vds)/(k*T)-E)))\n",
    "\n",
    "\n",
    "\n",
    "# Funciones de cálculo\n",
    "def get_N(U,T, Vds):\n",
    "    cte = L*np.sqrt(k*T)*np.sqrt(2*m)/h\n",
    "    integral = quad(int_N,\n",
    "                    (U+Ec)/(k*T),\n",
    "                    np.inf, \n",
    "                    args=(U, T, Vds))\n",
    "    # print(cte, integral) \n",
    "    return cte*integral[0]\n",
    "\n",
    "def get_U(N,N_0, V_gs):\n",
    "    return q*q/C_es*(N-N_0)-V_gs*eta\n",
    "\n",
    "def get_I(U, T, Vds):\n",
    "    cte = q*W*4*np.sqrt(2*m*k*T)*k*T/(h*h)\n",
    "    integral = quad(int_I,\n",
    "                    (U+Ec)/(k*T),\n",
    "                    np.inf, \n",
    "                    args=(U, T, Vds))\n",
    "    return cte*integral[0]\n",
    "\n",
    "# Loop de autoconsistencia\n",
    "def solve_I(Vds,T,Vgs, U_ = -1, tol = 1e-4,lr = 1e-3):\n",
    "    \n",
    "    N_0 = get_N(0,T, 0)\n",
    "    # print(N_0)\n",
    "    # U_ = -1\n",
    "    \n",
    "    for _ in tqdm(range(int(1e4)), disable=False):\n",
    "        N = get_N(U_,T, Vds)\n",
    "        U = get_U(N,N_0,Vgs)\n",
    "\n",
    "        if abs(U-U_) < tol:\n",
    "            # print('a')\n",
    "            break\n",
    "\n",
    "        else:\n",
    "            U_ = U_ +lr*(U-U_)\n",
    "    \n",
    "    I = get_I(U,T,Vds)\n",
    "    return U, I\n"
   ]
  },
  {
   "cell_type": "code",
   "execution_count": 108,
   "metadata": {},
   "outputs": [
    {
     "name": "stderr",
     "output_type": "stream",
     "text": [
      "  0%|          | 0/10000 [00:00<?, ?it/s]C:\\Users\\diego\\AppData\\Local\\Temp\\ipykernel_22168\\4111752797.py:20: IntegrationWarning: The maximum number of subdivisions (50) has been achieved.\n",
      "  If increasing the limit yields no improvement it is advised to analyze \n",
      "  the integrand in order to determine the difficulties.  If the position of a \n",
      "  local difficulty can be determined (singularity, discontinuity) one will \n",
      "  probably gain from splitting up the interval and calling the integrator \n",
      "  on the subranges.  Perhaps a special-purpose integrator should be used.\n",
      "  integral = quad(int_N,\n",
      "  8%|▊         | 848/10000 [00:07<01:18, 116.03it/s]"
     ]
    },
    {
     "name": "stdout",
     "output_type": "stream",
     "text": [
      "-0.5 0.0\n"
     ]
    },
    {
     "name": "stderr",
     "output_type": "stream",
     "text": [
      "\n"
     ]
    }
   ],
   "source": [
    "U,I = solve_I(0, \n",
    "        1, \n",
    "        0.5, \n",
    "        lr = 0.01)\n",
    "print(U,I*1e6)"
   ]
  },
  {
   "cell_type": "code",
   "execution_count": 109,
   "metadata": {},
   "outputs": [],
   "source": [
    "def plot_IVds(T,Vgs, tol = 1e-4,lr = 1e-2):\n",
    "    Vds_array = np.arange(0, 0.5, 0.01)\n",
    "\n",
    "    Ids_array = []\n",
    "\n",
    "    U = -1\n",
    "\n",
    "    for i, Vds in enumerate(Vds_array):\n",
    "        U, I = solve_I(\n",
    "            Vds = Vds,\n",
    "            T = T,\n",
    "            Vgs = Vgs,\n",
    "            U_ = U,\n",
    "            lr = lr\n",
    "        )\n",
    "        Ids_array.append(I)\n",
    "\n",
    "        if i % 10 == 0:\n",
    "            print(i)\n",
    "\n",
    "    plt.plot(Vds_array, np.array(Ids_array)*1e6)\n",
    "\n",
    "    return Vds_array, Ids_array"
   ]
  },
  {
   "cell_type": "code",
   "execution_count": 112,
   "metadata": {},
   "outputs": [
    {
     "name": "stderr",
     "output_type": "stream",
     "text": [
      "  0%|          | 0/10000 [00:00<?, ?it/s]"
     ]
    },
    {
     "name": "stderr",
     "output_type": "stream",
     "text": [
      "C:\\Users\\diego\\AppData\\Local\\Temp\\ipykernel_22168\\4111752797.py:20: IntegrationWarning: The maximum number of subdivisions (50) has been achieved.\n",
      "  If increasing the limit yields no improvement it is advised to analyze \n",
      "  the integrand in order to determine the difficulties.  If the position of a \n",
      "  local difficulty can be determined (singularity, discontinuity) one will \n",
      "  probably gain from splitting up the interval and calling the integrator \n",
      "  on the subranges.  Perhaps a special-purpose integrator should be used.\n",
      "  integral = quad(int_N,\n",
      "  8%|▊         | 848/10000 [00:07<01:24, 108.18it/s]\n"
     ]
    },
    {
     "name": "stdout",
     "output_type": "stream",
     "text": [
      "0\n"
     ]
    },
    {
     "name": "stderr",
     "output_type": "stream",
     "text": [
      "  0%|          | 0/10000 [00:00<?, ?it/s]\n",
      "  0%|          | 0/10000 [00:00<?, ?it/s]\n",
      "  0%|          | 0/10000 [00:00<?, ?it/s]\n",
      "  0%|          | 0/10000 [00:00<?, ?it/s]\n",
      "  0%|          | 0/10000 [00:00<?, ?it/s]\n",
      "  0%|          | 0/10000 [00:00<?, ?it/s]\n",
      "  0%|          | 0/10000 [00:00<?, ?it/s]C:\\Users\\diego\\AppData\\Local\\Temp\\ipykernel_22168\\4111752797.py:5: RuntimeWarning: overflow encountered in exp\n",
      "  return 1/np.sqrt(E-(U+Ec)/(k*T))*(1/(1+np.exp(E-Ef/(k*T)))+1/(1+np.exp(E-(Ef-Vds)/(k*T))))\n",
      "  0%|          | 0/10000 [00:00<?, ?it/s]\n",
      "  0%|          | 0/10000 [00:00<?, ?it/s]\n",
      "  0%|          | 0/10000 [00:00<?, ?it/s]\n",
      "  0%|          | 0/10000 [00:00<?, ?it/s]\n"
     ]
    },
    {
     "name": "stdout",
     "output_type": "stream",
     "text": [
      "10\n"
     ]
    },
    {
     "name": "stderr",
     "output_type": "stream",
     "text": [
      "  0%|          | 0/10000 [00:00<?, ?it/s]\n",
      "  0%|          | 0/10000 [00:00<?, ?it/s]\n",
      "  0%|          | 0/10000 [00:00<?, ?it/s]\n",
      "  0%|          | 0/10000 [00:00<?, ?it/s]\n",
      "  0%|          | 0/10000 [00:00<?, ?it/s]\n",
      "  0%|          | 0/10000 [00:00<?, ?it/s]\n",
      "  0%|          | 0/10000 [00:00<?, ?it/s]\n",
      "  0%|          | 0/10000 [00:00<?, ?it/s]\n",
      "C:\\Users\\diego\\AppData\\Local\\Temp\\ipykernel_22168\\4111752797.py:11: RuntimeWarning: overflow encountered in exp\n",
      "  return np.sqrt(E-(U+Ec)/(k*T))*(1/(1+np.exp(E-Ef/(k*T)))-1/(1+np.exp(E-(Ef-Vds)/(k*T))))\n",
      "  0%|          | 0/10000 [00:00<?, ?it/s]\n",
      "  0%|          | 0/10000 [00:00<?, ?it/s]\n"
     ]
    },
    {
     "name": "stdout",
     "output_type": "stream",
     "text": [
      "20\n"
     ]
    },
    {
     "name": "stderr",
     "output_type": "stream",
     "text": [
      "  0%|          | 0/10000 [00:00<?, ?it/s]\n",
      "  0%|          | 0/10000 [00:00<?, ?it/s]\n",
      "  0%|          | 0/10000 [00:00<?, ?it/s]\n",
      "  0%|          | 0/10000 [00:00<?, ?it/s]\n",
      "  0%|          | 0/10000 [00:00<?, ?it/s]\n",
      "  0%|          | 0/10000 [00:00<?, ?it/s]\n",
      "  0%|          | 0/10000 [00:00<?, ?it/s]\n",
      "  0%|          | 0/10000 [00:00<?, ?it/s]\n",
      "  0%|          | 0/10000 [00:00<?, ?it/s]\n",
      "  0%|          | 0/10000 [00:00<?, ?it/s]\n"
     ]
    },
    {
     "name": "stdout",
     "output_type": "stream",
     "text": [
      "30\n"
     ]
    },
    {
     "name": "stderr",
     "output_type": "stream",
     "text": [
      "  0%|          | 0/10000 [00:00<?, ?it/s]\n",
      "  0%|          | 0/10000 [00:00<?, ?it/s]\n",
      "  0%|          | 0/10000 [00:00<?, ?it/s]\n",
      "  0%|          | 0/10000 [00:00<?, ?it/s]\n",
      "  0%|          | 0/10000 [00:00<?, ?it/s]\n",
      "  0%|          | 0/10000 [00:00<?, ?it/s]\n",
      "  0%|          | 0/10000 [00:00<?, ?it/s]\n",
      "  0%|          | 0/10000 [00:00<?, ?it/s]\n",
      "  0%|          | 0/10000 [00:00<?, ?it/s]\n",
      "  0%|          | 0/10000 [00:00<?, ?it/s]\n"
     ]
    },
    {
     "name": "stdout",
     "output_type": "stream",
     "text": [
      "40\n"
     ]
    },
    {
     "name": "stderr",
     "output_type": "stream",
     "text": [
      "  0%|          | 0/10000 [00:00<?, ?it/s]\n",
      "  0%|          | 0/10000 [00:00<?, ?it/s]\n",
      "  0%|          | 0/10000 [00:00<?, ?it/s]\n",
      "  0%|          | 0/10000 [00:00<?, ?it/s]\n",
      "  0%|          | 0/10000 [00:00<?, ?it/s]\n",
      "  0%|          | 0/10000 [00:00<?, ?it/s]\n",
      "  0%|          | 0/10000 [00:00<?, ?it/s]\n",
      "  0%|          | 0/10000 [00:00<?, ?it/s]\n",
      "  0%|          | 0/10000 [00:00<?, ?it/s]\n"
     ]
    },
    {
     "data": {
      "image/png": "[encoded data removed]",
      "text/plain": [
       "<Figure size 640x480 with 1 Axes>"
      ]
     },
     "metadata": {},
     "output_type": "display_data"
    }
   ],
   "source": [
    "Vds_array, Ids_array = plot_IVds(\n",
    "    T = 1,\n",
    "    Vgs = 0.5\n",
    ")"
   ]
  },
  {
   "cell_type": "markdown",
   "metadata": {},
   "source": [
    "# Parte II"
   ]
  },
  {
   "cell_type": "code",
   "execution_count": 113,
   "metadata": {},
   "outputs": [],
   "source": [
    "def I_lineal(Vds, V_gs): # eq 5.60\n",
    "    cnt = q*W/(h_bar*h_bar*np.pi*np.pi)*np.sqrt(8*m/9)*np.sqrt(q*eta)**3\n",
    "    # print(np.sqrt(V_gs-V_t-Vds/eta)**3, np.sqrt(V_gs-V_t)**3, cnt, cnt*(np.sqrt(V_gs-V_t)**3-np.sqrt(V_gs-V_t-Vds/eta)**3))\n",
    "    return cnt*(np.sqrt(V_gs-V_t)**3-np.sqrt(V_gs-V_t-Vds/eta)**3)\n",
    "\n",
    "\n",
    "def I_saturado(V_gs): # eq 5.61\n",
    "    cnt =  q*W/(h_bar*h_bar*np.pi*np.pi)*np.sqrt(8*m/9)*np.sqrt(q*eta)**3\n",
    "    return cnt*np.sqrt(V_gs-V_t)**3\n",
    "\n",
    "\n",
    "I_lineal = np.vectorize(I_lineal)\n",
    "I_saturado = np.vectorize(I_saturado)\n"
   ]
  },
  {
   "cell_type": "code",
   "execution_count": 114,
   "metadata": {},
   "outputs": [
    {
     "data": {
      "text/plain": [
       "0.17061453158351192"
      ]
     },
     "execution_count": 114,
     "metadata": {},
     "output_type": "execute_result"
    }
   ],
   "source": [
    "np.sqrt(0.5-V_t)**3-np.sqrt(0.5-V_t-0.05/eta)**3"
   ]
  },
  {
   "cell_type": "code",
   "execution_count": 115,
   "metadata": {},
   "outputs": [
    {
     "data": {
      "text/plain": [
       "5.501439722216893e-31"
      ]
     },
     "execution_count": 115,
     "metadata": {},
     "output_type": "execute_result"
    }
   ],
   "source": [
    "q*W/(h_bar*h_bar*np.pi*np.pi)*np.sqrt(8*m/9)*np.sqrt(q*eta)**3"
   ]
  },
  {
   "cell_type": "code",
   "execution_count": 116,
   "metadata": {},
   "outputs": [
    {
     "data": {
      "text/plain": [
       "[<matplotlib.lines.Line2D at 0x16ea8d9c1f0>]"
      ]
     },
     "execution_count": 116,
     "metadata": {},
     "output_type": "execute_result"
    },
    {
     "data": {
      "image/png": "[encoded data removed]",
      "text/plain": [
       "<Figure size 640x480 with 1 Axes>"
      ]
     },
     "metadata": {},
     "output_type": "display_data"
    }
   ],
   "source": [
    "x = np.linspace(0,0.05, 10)\n",
    "x_ = np.linspace(0.05,0.5,10)\n",
    "\n",
    "V_gs = 0.5\n",
    "V_gs_ = np.ones(10)*V_gs\n",
    "\n",
    "y = I_lineal(x, V_gs)\n",
    "y_ = I_saturado(V_gs_)\n",
    "\n",
    "plt.plot(x,y)\n",
    "plt.plot(x_,y_)"
   ]
  },
  {
   "cell_type": "code",
   "execution_count": 28,
   "metadata": {},
   "outputs": [
    {
     "data": {
      "text/plain": [
       "0.8963395609456556"
      ]
     },
     "execution_count": 28,
     "metadata": {},
     "output_type": "execute_result"
    }
   ],
   "source": [
    "eta"
   ]
  },
  {
   "cell_type": "code",
   "execution_count": null,
   "metadata": {},
   "outputs": [],
   "source": []
  }
 ],
 "metadata": {
  "kernelspec": {
   "display_name": "Python 3",
   "language": "python",
   "name": "python3"
  },
  "language_info": {
   "codemirror_mode": {
    "name": "ipython",
    "version": 3
   },
   "file_extension": ".py",
   "mimetype": "text/x-python",
   "name": "python",
   "nbconvert_exporter": "python",
   "pygments_lexer": "ipython3",
   "version": "3.10.1"
  }
 },
 "nbformat": 4,
 "nbformat_minor": 2
}
