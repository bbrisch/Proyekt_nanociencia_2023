{
 "cells": [
  {
   "cell_type": "code",
   "execution_count": null,
   "metadata": {},
   "outputs": [],
   "source": [
    "import numpy as np\n",
    "import matplotlib.pyplot as plt\n",
    "\n",
    "from tqdm import tqdm\n",
    "\n",
    "from scipy.integrate import quad\n",
    "import scipy.stats as stats"
   ]
  },
  {
   "cell_type": "code",
   "execution_count": null,
   "metadata": {},
   "outputs": [],
   "source": [
    "# Definición de variables eV\n",
    "\n",
    "k = 8.617333262e-5 # eV / K\n",
    "h = 4.135667e-15 # eV*s\n",
    "h_bar = h/(2*np.pi) # eV*s\n",
    "m =  0.5*510999 #eV/c^2  #0.5*9.1e-31 # kg\n",
    "q = 1.602176e-19\n",
    "\n",
    "Ec = -4.7  #eV\n",
    "Ef = -5 #eV\n",
    "\n",
    "L = 40e-9 # M\n",
    "W = 3*L # M\n",
    "\n",
    "C_g = 0.1e-15 # Faradio = Q/V = Q^2/eV\n",
    "C_q = q*q*m*W*L/(2*np.pi*h_bar*h_bar) # Q^2/eV\n",
    "\n",
    "C_es = C_g+C_q\n",
    "\n",
    "eta = C_g/C_es\n",
    "V_t = Ec"
   ]
  },
  {
   "cell_type": "markdown",
   "metadata": {},
   "source": [
    "# Parte I"
   ]
  },
  {
   "cell_type": "code",
   "execution_count": null,
   "metadata": {},
   "outputs": [],
   "source": [
    "# Funciones de integrales\n",
    "def int_N(E,U,T,Vds):\n",
    "    # print(E, (U+Ec)/(k*T))\n",
    "    if E < Ef/(k*T):\n",
    "        return 1/np.sqrt(E-(U+Ec)/(k*T))*(1/(1+np.exp(E-Ef/(k*T)))+1/(1+np.exp(E-(Ef-Vds)/(k*T))))\n",
    "    else:\n",
    "        return 1/np.sqrt(E-(U+Ec)/(k*T))*(np.exp(Ef/(k*T)-E)/(1+np.exp(Ef/(k*T)-E)) + np.exp((Ef-Vds)/(k*T)-E)/(1+np.exp((Ef-Vds)/(k*T)-E)))\n",
    "\n",
    "def int_I(E,U,T, Vds):\n",
    "    if E < Ef/(k*T):\n",
    "        return np.sqrt(E-(U+Ec)/(k*T))*(1/(1+np.exp(E-Ef/(k*T)))-1/(1+np.exp(E-(Ef-Vds)/(k*T))))\n",
    "    else:\n",
    "        return np.sqrt(E-(U+Ec)/(k*T))*(np.exp(Ef/(k*T)-E)/(1+np.exp(Ef/(k*T)-E)) - np.exp((Ef-Vds)/(k*T)-E)/(1+np.exp((Ef-Vds)/(k*T)-E)))\n",
    "\n",
    "\n",
    "\n",
    "# Funciones de cálculo\n",
    "def get_N(U,T, Vds):\n",
    "    cte = L*np.sqrt(k*T)*np.sqrt(2*m)/h\n",
    "    integral = quad(int_N,\n",
    "                    (U+Ec)/(k*T),\n",
    "                    np.inf, \n",
    "                    args=(U, T, Vds))\n",
    "    # print(cte, integral) \n",
    "    return cte*integral[0]\n",
    "\n",
    "def get_U(N,N_0, V_gs):\n",
    "    return q*q/C_es*(N-N_0)-V_gs*eta\n",
    "\n",
    "def get_I(U, T, Vds):\n",
    "    cte = q*W*4*np.sqrt(2*m*k*T)*k*T/(h*h)\n",
    "    integral = quad(int_I,\n",
    "                    (U+Ec)/(k*T),\n",
    "                    np.inf, \n",
    "                    args=(U, T, Vds))\n",
    "    return cte*integral[0]\n",
    "\n",
    "# Loop de autoconsistencia\n",
    "def solve_I(Vds,T,V_gs, tol = 1e-4,lr = 1e-3):\n",
    "    \n",
    "    N_0 = get_N(0,T, 0)\n",
    "    print(N_0)\n",
    "    U_ = -1\n",
    "    \n",
    "    for _ in tqdm(range(int(1e4)), disable=False):\n",
    "        N = get_N(U_,T, Vds)\n",
    "        U = get_U(N,N_0,V_gs)\n",
    "\n",
    "        if abs(U-U_) < tol:\n",
    "            print('a')\n",
    "            break\n",
    "\n",
    "        else:\n",
    "            U_ = U_ +lr*(U-U_)\n",
    "    \n",
    "    I = get_I(U,T,Vds)\n",
    "    return U, I\n",
    "\n",
    "U,I = solve_I(0.3, \n",
    "        1, \n",
    "        0.5, \n",
    "        lr = 0.01)\n",
    "print(U,I)\n",
    "    "
   ]
  },
  {
   "cell_type": "markdown",
   "metadata": {},
   "source": [
    "# Parte II"
   ]
  },
  {
   "cell_type": "code",
   "execution_count": null,
   "metadata": {},
   "outputs": [],
   "source": [
    "def I_lineal(Vds, V_gs): # eq 5.60\n",
    "    cnt = q*W/(h_bar*h_bar*np.pi*np.pi)*np.sqrt(8*m/9)*np.sqrt(q*eta)**3\n",
    "    # print(np.sqrt(V_gs-V_t-Vds/eta)**3, np.sqrt(V_gs-V_t)**3, cnt, cnt*(np.sqrt(V_gs-V_t)**3-np.sqrt(V_gs-V_t-Vds/eta)**3))\n",
    "    return cnt*(np.sqrt(V_gs-V_t)**3-np.sqrt(V_gs-V_t-Vds/eta)**3)\n",
    "\n",
    "\n",
    "def I_saturado(V_gs): # eq 5.61\n",
    "    cnt =  q*W/(h_bar*h_bar*np.pi*np.pi)*np.sqrt(8*m/9)*np.sqrt(q*eta)**3\n",
    "    return cnt*np.sqrt(V_gs-V_t)**3\n",
    "\n",
    "\n",
    "I_lineal = np.vectorize(I_lineal)\n",
    "I_saturado = np.vectorize(I_saturado)\n"
   ]
  },
  {
   "cell_type": "code",
   "execution_count": null,
   "metadata": {},
   "outputs": [],
   "source": [
    "np.sqrt(0.5-V_t)**3-np.sqrt(0.5-V_t-0.05/eta)**3"
   ]
  },
  {
   "cell_type": "code",
   "execution_count": null,
   "metadata": {},
   "outputs": [],
   "source": [
    "q*W/(h_bar*h_bar*np.pi*np.pi)*np.sqrt(8*m/9)*np.sqrt(q*eta)**3"
   ]
  },
  {
   "cell_type": "code",
   "execution_count": null,
   "metadata": {},
   "outputs": [],
   "source": [
    "x = np.linspace(0,0.05, 10)\n",
    "x_ = np.linspace(0.05,0.5,10)\n",
    "\n",
    "V_gs = 0.5\n",
    "V_gs_ = np.ones(10)*V_gs\n",
    "\n",
    "y = I_lineal(x, V_gs)\n",
    "y_ = I_saturado(V_gs_)\n",
    "\n",
    "plt.plot(x,y)\n",
    "plt.plot(x_,y_)"
   ]
  },
  {
   "cell_type": "code",
   "execution_count": null,
   "metadata": {},
   "outputs": [],
   "source": [
    "eta"
   ]
  }
 ],
 "metadata": {
  "kernelspec": {
   "display_name": "Python 3",
   "language": "python",
   "name": "python3"
  },
  "language_info": {
   "codemirror_mode": {
    "name": "ipython",
    "version": 3
   },
   "file_extension": ".py",
   "mimetype": "text/x-python",
   "name": "python",
   "nbconvert_exporter": "python",
   "pygments_lexer": "ipython3",
   "version": "3.10.1"
  }
 },
 "nbformat": 4,
 "nbformat_minor": 2
}
