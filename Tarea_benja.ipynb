{
 "cells": [
  {
   "cell_type": "code",
   "execution_count": 24,
   "metadata": {},
   "outputs": [],
   "source": [
    "import numpy as np\n",
    "import matplotlib.pyplot as plt\n",
    "\n",
    "from tqdm import tqdm\n",
    "\n",
    "from scipy.integrate import quad"
   ]
  },
  {
   "cell_type": "markdown",
   "metadata": {},
   "source": [
    "# Parte I"
   ]
  },
  {
   "cell_type": "code",
   "execution_count": 31,
   "metadata": {},
   "outputs": [
    {
     "name": "stderr",
     "output_type": "stream",
     "text": [
      "c:\\Users\\benja\\AppData\\Local\\Programs\\Python\\Python310\\lib\\site-packages\\numpy\\core\\function_base.py:277: RuntimeWarning: overflow encountered in power\n",
      "  return _nx.power(base, y)\n",
      "  0%|          | 0/10000 [00:00<?, ?it/s]C:\\Users\\benja\\AppData\\Local\\Temp/ipykernel_7516/2432251702.py:3: RuntimeWarning: overflow encountered in exp\n",
      "  return 1/(1+np.exp((E-U)/(k*T)))\n",
      "  0%|          | 34/10000 [00:00<00:30, 326.69it/s]C:\\Users\\benja\\AppData\\Local\\Temp/ipykernel_7516/2432251702.py:28: IntegrationWarning: The integral is probably divergent, or slowly convergent.\n",
      "  N = quad(get_N, Ec, np.inf, args=args)[0]\n",
      " 29%|██▊       | 2851/10000 [00:03<00:09, 790.80it/s] C:\\Users\\benja\\AppData\\Local\\Temp/ipykernel_7516/2432251702.py:3: RuntimeWarning: overflow encountered in double_scalars\n",
      "  return 1/(1+np.exp((E-U)/(k*T)))\n",
      "100%|██████████| 10000/10000 [00:10<00:00, 929.85it/s]\n"
     ]
    }
   ],
   "source": [
    "def fermi_dirac(E,U,T):\n",
    "    k = 1.380649e-23\n",
    "    return 1/(1+np.exp((E-U)/(k*T)))\n",
    "\n",
    "def step(x):\n",
    "    if 0 <= x: return 1\n",
    "    return 0 \n",
    "\n",
    "def get_N(E, U,T, L,Ec):\n",
    "    h = 4.135667e-15\n",
    "    m = 0.5*9.1e-31\n",
    "    return fermi_dirac(E,U,T)*L/h*np.sqrt(2*m/(E-Ec))\n",
    "\n",
    "def get_U(N,N_0, V_gs,C_g):\n",
    "    q = 1.602176e-19\n",
    "    # print(N, N_0)\n",
    "    return q*q/C_g*(N-N_0)-q*V_gs\n",
    "\n",
    "def solve_I(rec_U,T,Ec,N_0,V_gs, tol = 1e-5):\n",
    "    Ec = 0\n",
    "    L = 40e-9\n",
    "    C_g = 0.1e-15 \n",
    "    \n",
    "    ns = []\n",
    "\n",
    "    for U in tqdm(rec_U):\n",
    "        args = (U,T,L,Ec)\n",
    "        N = quad(get_N, Ec, np.inf, args=args)[0]\n",
    "\n",
    "        ns.append(N)\n",
    "        if abs(U-get_U(N,N_0,V_gs,C_g)) < tol:\n",
    "            print('ªª Lo encontré al bastardo hdp')\n",
    "    return ns\n",
    "    \n",
    "ns = solve_I(np.logspace(1e-5,1000, 10000), \n",
    "        1, \n",
    "        0, \n",
    "        0,\n",
    "        0.3)\n"
   ]
  },
  {
   "cell_type": "code",
   "execution_count": 30,
   "metadata": {},
   "outputs": [
    {
     "data": {
      "text/plain": [
       "[<matplotlib.lines.Line2D at 0x26b0482eb30>]"
      ]
     },
     "execution_count": 30,
     "metadata": {},
     "output_type": "execute_result"
    },
    {
     "data": {
      "image/png": "[encoded data removed]",
      "text/plain": [
       "<Figure size 432x288 with 1 Axes>"
      ]
     },
     "metadata": {
      "needs_background": "light"
     },
     "output_type": "display_data"
    }
   ],
   "source": [
    "plt.plot(ns)\n"
   ]
  }
 ],
 "metadata": {
  "kernelspec": {
   "display_name": "Python 3",
   "language": "python",
   "name": "python3"
  },
  "language_info": {
   "codemirror_mode": {
    "name": "ipython",
    "version": 3
   },
   "file_extension": ".py",
   "mimetype": "text/x-python",
   "name": "python",
   "nbconvert_exporter": "python",
   "pygments_lexer": "ipython3",
   "version": "3.10.1"
  }
 },
 "nbformat": 4,
 "nbformat_minor": 2
}
