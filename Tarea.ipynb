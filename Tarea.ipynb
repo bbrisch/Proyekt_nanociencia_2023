{
 "cells": [
  {
   "cell_type": "code",
   "execution_count": 1,
   "metadata": {},
   "outputs": [],
   "source": [
    "import numpy as np\n",
    "import matplotlib.pyplot as plt\n",
    "\n",
    "from tqdm import tqdm\n",
    "\n",
    "from scipy.integrate import quad, trapz\n",
    "import scipy.stats as stats"
   ]
  },
  {
   "cell_type": "code",
   "execution_count": 2,
   "metadata": {},
   "outputs": [],
   "source": [
    "# Definición de variables eV\n",
    "\n",
    "k = 1.380649e-23    # J / K\n",
    "h = 6.62607015e-34  # J*s\n",
    "h_bar = h/(2*np.pi) # J*s\n",
    "m = 0.5*9.1e-31     # kg\n",
    "q = 1.602176e-19    # C\n",
    "\n",
    "Ec = -4.7 * q       # J\n",
    "Ef = -5.0 * q       # J\n",
    "\n",
    "L = 40e-9           # m\n",
    "W = 3*L             # m\n",
    "\n",
    "alfa = L*W*m/(np.pi*h_bar*h_bar)\n",
    "\n",
    "C_g = 0.1e-15       # F \n",
    "C_q = q*q*m*W*L/(2*np.pi*h_bar*h_bar)   # F\n",
    "\n",
    "C_es = C_g + C_q\n",
    "\n",
    "eta_0 = 1.0\n",
    "eta = C_g/C_es\n",
    "\n",
    "V_t = (Ec-Ef)/(q)"
   ]
  },
  {
   "cell_type": "markdown",
   "metadata": {},
   "source": [
    "# Parte I"
   ]
  },
  {
   "cell_type": "code",
   "execution_count": 3,
   "metadata": {},
   "outputs": [],
   "source": [
    "\n",
    "# Funciones de cálculo\n",
    "def get_g(E, Ec): # g(E)dE eq 2.47 pag 70\n",
    "    return (E >= Ec)\n",
    "\n",
    "\n",
    "def fermi_dirac(E, T):\n",
    "    return np.piecewise(E, [E<0, E>=0], [lambda x: 1/(1 + np.exp(x/(k*T))), lambda x: np.exp(-x/(k*T))/(1 + np.exp(-x/(k*T)))] )\n",
    "\n",
    "\n",
    "\n",
    "def get_N(E, U, T, Vds):\n",
    "    return 0.5 * alfa * np.trapz(get_g(E-U, Ec) * (fermi_dirac(E-Ef, T) + fermi_dirac(E-(Ef-Vds*q), T)), E)\n",
    "\n",
    "\n",
    "def get_U(N, N_0, V_gs): # eq 5.33\n",
    "    return q*q/C_es*(N-N_0)-V_gs*q\n",
    "\n",
    "\n",
    "def get_I(E, U, T, Vds):\n",
    "    y = np.sqrt(2*m*(E-Ec-U), where=E-Ec-U>=0) * get_g(E-U, Ec) * (fermi_dirac(E-Ef, T) - fermi_dirac(E-(Ef-Vds*q), T))\n",
    "    return q*W / (np.pi*np.pi*h_bar*h_bar) * np.trapz(y, E)\n",
    "\n",
    "\n",
    "# Loop de autoconsistencia\n",
    "def solve_I(Vds, T, Vgs, U_guess = -0.3*q, tol = 1e-5, lr = 1e-3):\n",
    "    \n",
    "    E = np.linspace(Ec*2, 0, 10000)\n",
    "\n",
    "    N_0 = get_N(E = E, U = 0, T = T, Vds = 0)\n",
    "    # print(f\"N_0 = {N_0}\")\n",
    "    \n",
    "    U_array = []\n",
    "    error = []\n",
    "\n",
    "    for _ in tqdm(range(int(1e4)), disable=False):\n",
    "        N_ = get_N(E, U_guess, T, Vds)\n",
    "        # print(f\"N = {N_}\")\n",
    "        U_formula = get_U(N_, N_0, Vgs)\n",
    "\n",
    "        # print(f\"U_={U_guess} \\tU_computed={U_formula} \\tN = {get_N(E, U_guess, T, Vds)}\")\n",
    "\n",
    "        U_array.append(U_formula)\n",
    "\n",
    "        # print(U_)\n",
    "\n",
    "        if abs(U_formula - U_guess) < tol:\n",
    "            # print('Converged')\n",
    "            break\n",
    "        \n",
    "        else:\n",
    "            U_guess = U_guess + lr*(U_formula - U_guess)\n",
    "            # print(f\"lr*error = {lr*(U_computed - U_)}\")\n",
    "\n",
    "\n",
    "        error.append(abs(U_formula - U_guess))\n",
    "    \n",
    "    I_ = get_I(E, U_formula, T, Vds)\n",
    "    # plt.plot(np.array(error)/q)\n",
    "    # plt.yscale('log')\n",
    "    # plt.xscale('log')\n",
    "\n",
    "    \n",
    "    return I_, U_array\n"
   ]
  },
  {
   "cell_type": "code",
   "execution_count": 4,
   "metadata": {},
   "outputs": [
    {
     "name": "stderr",
     "output_type": "stream",
     "text": [
      "100%|██████████| 10000/10000 [00:06<00:00, 1518.57it/s]"
     ]
    },
    {
     "name": "stdout",
     "output_type": "stream",
     "text": [
      "262.6379772680104 -0.40519336662266625\n"
     ]
    },
    {
     "name": "stderr",
     "output_type": "stream",
     "text": [
      "\n"
     ]
    },
    {
     "data": {
      "text/plain": [
       "[<matplotlib.lines.Line2D at 0x2138e2b5fc0>]"
      ]
     },
     "execution_count": 4,
     "metadata": {},
     "output_type": "execute_result"
    },
    {
     "data": {
      "image/png": "[encoded data removed]",
      "text/plain": [
       "<Figure size 640x480 with 1 Axes>"
      ]
     },
     "metadata": {},
     "output_type": "display_data"
    }
   ],
   "source": [
    "a = solve_I(Vds = 0.25, \n",
    "        T = 298, \n",
    "        Vgs = 0.5, \n",
    "        lr = 0.009,\n",
    "        tol = 1e-4*q)\n",
    "# print(U,I*1e6)\n",
    "print(a[0]*1e6, a[1][-1]/q)\n",
    "\n",
    "plt.plot(np.array(a[1])/q)\n",
    "# N_0 = get_N(-0.5*eta*q, 298, 0)\n",
    "# print(N_0)\n",
    "    # print(f\"N_0 = {N_0}\")"
   ]
  },
  {
   "cell_type": "code",
   "execution_count": 5,
   "metadata": {},
   "outputs": [],
   "source": [
    "def plot_IVds(T, Vgs, tol = 1e-4*q, lr = 0.005):\n",
    "    Vds_array = np.linspace(0, 0.5, 50)\n",
    "\n",
    "    Ids_array = []\n",
    "    \n",
    "\n",
    "    U = -1*q\n",
    "    for i, Vds in enumerate(Vds_array):\n",
    "        I, U_array  = solve_I(\n",
    "            Vds = Vds,\n",
    "            T = T,\n",
    "            Vgs = Vgs,\n",
    "            U_guess = U,\n",
    "            lr = lr,\n",
    "            tol = tol\n",
    "        )\n",
    "        U = U_array[-1]\n",
    "        Ids_array.append(I)\n",
    "\n",
    "        if i % 10 == 0:\n",
    "            print(i)\n",
    "\n",
    "    plt.plot(Vds_array, np.array(Ids_array)*1e6)\n",
    "    plt.ylabel(r\"$I_{DS}$ [uA]\")\n",
    "    plt.xlabel(r\"$V_{DS}$ [V]\")\n",
    "    plt.title(f\"T = {T} [K] and {r'$V_{GS}$'} = {Vgs} [V]\")\n",
    "    plt.grid()\n",
    "\n",
    "    return Vds_array, Ids_array"
   ]
  },
  {
   "cell_type": "code",
   "execution_count": 8,
   "metadata": {},
   "outputs": [
    {
     "name": "stderr",
     "output_type": "stream",
     "text": [
      "  3%|▎         | 300/10000 [00:00<00:23, 404.49it/s]\n"
     ]
    },
    {
     "name": "stdout",
     "output_type": "stream",
     "text": [
      "0\n"
     ]
    },
    {
     "name": "stderr",
     "output_type": "stream",
     "text": [
      "  1%|          | 95/10000 [00:00<00:29, 335.44it/s]\n",
      "  1%|▏         | 147/10000 [00:00<00:21, 467.14it/s]\n",
      "  1%|          | 104/10000 [00:00<00:23, 423.96it/s]\n",
      "  0%|          | 0/10000 [00:00<?, ?it/s]\n",
      "  0%|          | 0/10000 [00:00<?, ?it/s]\n",
      "  0%|          | 0/10000 [00:00<?, ?it/s]\n",
      "  0%|          | 0/10000 [00:00<?, ?it/s]\n",
      "  0%|          | 0/10000 [00:00<?, ?it/s]\n",
      "  0%|          | 0/10000 [00:00<?, ?it/s]\n",
      "  0%|          | 0/10000 [00:00<?, ?it/s]\n"
     ]
    },
    {
     "name": "stdout",
     "output_type": "stream",
     "text": [
      "10\n"
     ]
    },
    {
     "name": "stderr",
     "output_type": "stream",
     "text": [
      "  0%|          | 0/10000 [00:00<?, ?it/s]\n",
      "  0%|          | 0/10000 [00:00<?, ?it/s]\n",
      "  0%|          | 0/10000 [00:00<?, ?it/s]\n",
      "  0%|          | 0/10000 [00:00<?, ?it/s]\n",
      "  0%|          | 0/10000 [00:00<?, ?it/s]\n",
      "  0%|          | 0/10000 [00:00<?, ?it/s]\n",
      "  0%|          | 0/10000 [00:00<?, ?it/s]\n",
      "  0%|          | 0/10000 [00:00<?, ?it/s]\n",
      "  0%|          | 0/10000 [00:00<?, ?it/s]\n",
      "  0%|          | 0/10000 [00:00<?, ?it/s]\n"
     ]
    },
    {
     "name": "stdout",
     "output_type": "stream",
     "text": [
      "20\n"
     ]
    },
    {
     "name": "stderr",
     "output_type": "stream",
     "text": [
      "  0%|          | 0/10000 [00:00<?, ?it/s]\n",
      "  0%|          | 0/10000 [00:00<?, ?it/s]\n",
      "  0%|          | 0/10000 [00:00<?, ?it/s]\n",
      "  0%|          | 0/10000 [00:00<?, ?it/s]\n",
      "  0%|          | 0/10000 [00:00<?, ?it/s]\n",
      "  0%|          | 0/10000 [00:00<?, ?it/s]\n",
      "  0%|          | 0/10000 [00:00<?, ?it/s]\n",
      "  0%|          | 0/10000 [00:00<?, ?it/s]\n",
      "  0%|          | 0/10000 [00:00<?, ?it/s]\n",
      "  0%|          | 0/10000 [00:00<?, ?it/s]\n"
     ]
    },
    {
     "name": "stdout",
     "output_type": "stream",
     "text": [
      "30\n"
     ]
    },
    {
     "name": "stderr",
     "output_type": "stream",
     "text": [
      "  0%|          | 0/10000 [00:00<?, ?it/s]\n",
      "  0%|          | 0/10000 [00:00<?, ?it/s]\n",
      "  0%|          | 0/10000 [00:00<?, ?it/s]\n",
      "  0%|          | 0/10000 [00:00<?, ?it/s]\n",
      "  0%|          | 0/10000 [00:00<?, ?it/s]\n",
      "  0%|          | 0/10000 [00:00<?, ?it/s]\n",
      "  0%|          | 0/10000 [00:00<?, ?it/s]\n",
      "  0%|          | 0/10000 [00:00<?, ?it/s]\n",
      "  0%|          | 0/10000 [00:00<?, ?it/s]\n",
      "  0%|          | 0/10000 [00:00<?, ?it/s]\n"
     ]
    },
    {
     "name": "stdout",
     "output_type": "stream",
     "text": [
      "40\n"
     ]
    },
    {
     "name": "stderr",
     "output_type": "stream",
     "text": [
      "  0%|          | 0/10000 [00:00<?, ?it/s]\n",
      "  0%|          | 0/10000 [00:00<?, ?it/s]\n",
      "  0%|          | 0/10000 [00:00<?, ?it/s]\n",
      "  0%|          | 0/10000 [00:00<?, ?it/s]\n",
      "  0%|          | 0/10000 [00:00<?, ?it/s]\n",
      "  0%|          | 0/10000 [00:00<?, ?it/s]\n",
      "  0%|          | 0/10000 [00:00<?, ?it/s]\n",
      "  0%|          | 0/10000 [00:00<?, ?it/s]\n",
      "  0%|          | 0/10000 [00:00<?, ?it/s]\n"
     ]
    },
    {
     "data": {
      "image/png": "[encoded data removed]",
      "text/plain": [
       "<Figure size 640x480 with 1 Axes>"
      ]
     },
     "metadata": {},
     "output_type": "display_data"
    }
   ],
   "source": [
    "Vds_array, Ids_array = plot_IVds(\n",
    "    T = 1,\n",
    "    Vgs = 0.35\n",
    ")"
   ]
  },
  {
   "cell_type": "markdown",
   "metadata": {},
   "source": [
    "# Parte II"
   ]
  },
  {
   "cell_type": "code",
   "execution_count": 41,
   "metadata": {},
   "outputs": [],
   "source": [
    "def I_lineal(Vds, V_gs): # eq 5.60\n",
    "    cnt = q*W/(h_bar*h_bar*np.pi*np.pi)*np.sqrt(8*m/9)*np.sqrt(q*eta)**3\n",
    "    # print(np.sqrt(V_gs-V_t-Vds/eta)**3, np.sqrt(V_gs-V_t)**3, cnt, cnt*(np.sqrt(V_gs-V_t)**3-np.sqrt(V_gs-V_t-Vds/eta)**3))\n",
    "    return cnt*(np.sqrt(V_gs-V_t)**3-np.sqrt(V_gs-V_t-Vds/eta)**3)\n",
    "\n",
    "\n",
    "def I_saturado(V_gs): # eq 5.61\n",
    "    cnt =  q*W/(h_bar*h_bar*np.pi*np.pi)*np.sqrt(8*m/9)*np.sqrt(q*eta)**3\n",
    "    return cnt*np.sqrt(V_gs-V_t)**3\n",
    "\n",
    "\n",
    "# I_lineal = np.vectorize(I_lineal)\n",
    "# I_saturado = np.vectorize(I_saturado)\n"
   ]
  },
  {
   "cell_type": "code",
   "execution_count": 42,
   "metadata": {},
   "outputs": [
    {
     "data": {
      "text/plain": [
       "0.0554134775452663"
      ]
     },
     "execution_count": 42,
     "metadata": {},
     "output_type": "execute_result"
    }
   ],
   "source": [
    "eta*(0.5-V_t*q)"
   ]
  },
  {
   "cell_type": "code",
   "execution_count": 45,
   "metadata": {},
   "outputs": [],
   "source": [
    "def plot_IVds_T0(Vgs, ax):\n",
    "    Vds_array = np.linspace(0, 0.5, 1000)\n",
    "\n",
    "    Ids_array = []\n",
    "\n",
    "    for i, Vds in enumerate(Vds_array):\n",
    "        if Vds < eta*(Vgs-V_t):\n",
    "            I = I_lineal(Vds, Vgs)\n",
    "        else:\n",
    "            I = I_saturado(Vgs)\n",
    "        Ids_array.append(I)\n",
    "        \n",
    "\n",
    "    plt.plot(Vds_array, np.array(Ids_array)*1e6)\n",
    "    plt.ylabel(\"Ids [uA]\")\n",
    "    plt.xlabel(\"Vds [V]\")\n",
    "    plt.title(f\"T = 0 [K] and Vgs = {Vgs} [V]\")\n",
    "    plt.grid()\n",
    "\n",
    "    return Vds_array, Ids_array"
   ]
  },
  {
   "cell_type": "code",
   "execution_count": 58,
   "metadata": {},
   "outputs": [
    {
     "data": {
      "image/png": "[encoded data removed]",
      "text/plain": [
       "<Figure size 640x480 with 1 Axes>"
      ]
     },
     "metadata": {},
     "output_type": "display_data"
    }
   ],
   "source": [
    "a = plot_IVds_T0(0.4)"
   ]
  },
  {
   "cell_type": "code",
   "execution_count": 266,
   "metadata": {},
   "outputs": [
    {
     "name": "stderr",
     "output_type": "stream",
     "text": [
      "C:\\Users\\diego\\AppData\\Local\\Temp\\ipykernel_22168\\1432670519.py:1: RuntimeWarning: invalid value encountered in sqrt\n",
      "  np.sqrt(0.5-V_t)**3-np.sqrt(0.5-V_t-0.05/eta)**3\n"
     ]
    },
    {
     "data": {
      "text/plain": [
       "nan"
      ]
     },
     "execution_count": 266,
     "metadata": {},
     "output_type": "execute_result"
    }
   ],
   "source": [
    "np.sqrt(0.5-V_t)**3-np.sqrt(0.5-V_t-0.05/eta)**3"
   ]
  },
  {
   "cell_type": "code",
   "execution_count": 267,
   "metadata": {},
   "outputs": [
    {
     "data": {
      "text/plain": [
       "1.8338132407389643e-40"
      ]
     },
     "execution_count": 267,
     "metadata": {},
     "output_type": "execute_result"
    }
   ],
   "source": [
    "q*W/(h_bar*h_bar*np.pi*np.pi)*np.sqrt(8*m/9)*np.sqrt(q*eta)**3"
   ]
  },
  {
   "cell_type": "code",
   "execution_count": 265,
   "metadata": {},
   "outputs": [
    {
     "name": "stderr",
     "output_type": "stream",
     "text": [
      "C:\\Users\\diego\\AppData\\Local\\Temp\\ipykernel_22168\\2360004553.py:4: RuntimeWarning: invalid value encountered in sqrt\n",
      "  return cnt*(np.sqrt(V_gs-V_t)**3-np.sqrt(V_gs-V_t-Vds/eta)**3)\n"
     ]
    },
    {
     "data": {
      "text/plain": [
       "[<matplotlib.lines.Line2D at 0x16ea79aca00>]"
      ]
     },
     "execution_count": 265,
     "metadata": {},
     "output_type": "execute_result"
    },
    {
     "data": {
      "image/png": "[encoded data removed]",
      "text/plain": [
       "<Figure size 640x480 with 1 Axes>"
      ]
     },
     "metadata": {},
     "output_type": "display_data"
    }
   ],
   "source": [
    "x = np.linspace(0,0.05, 10)\n",
    "x_ = np.linspace(0.05,0.5,10)\n",
    "\n",
    "V_gs = 0.5\n",
    "V_gs_ = np.ones(10)*V_gs\n",
    "\n",
    "y = I_lineal(x, V_gs)\n",
    "y_ = I_saturado(V_gs_)\n",
    "\n",
    "plt.plot(x,y)\n",
    "plt.plot(x_,y_)"
   ]
  },
  {
   "cell_type": "code",
   "execution_count": 28,
   "metadata": {},
   "outputs": [
    {
     "data": {
      "text/plain": [
       "0.8963395609456556"
      ]
     },
     "execution_count": 28,
     "metadata": {},
     "output_type": "execute_result"
    }
   ],
   "source": [
    "eta"
   ]
  },
  {
   "cell_type": "code",
   "execution_count": null,
   "metadata": {},
   "outputs": [],
   "source": []
  }
 ],
 "metadata": {
  "kernelspec": {
   "display_name": "Python 3",
   "language": "python",
   "name": "python3"
  },
  "language_info": {
   "codemirror_mode": {
    "name": "ipython",
    "version": 3
   },
   "file_extension": ".py",
   "mimetype": "text/x-python",
   "name": "python",
   "nbconvert_exporter": "python",
   "pygments_lexer": "ipython3",
   "version": "3.10.11"
  }
 },
 "nbformat": 4,
 "nbformat_minor": 2
}
